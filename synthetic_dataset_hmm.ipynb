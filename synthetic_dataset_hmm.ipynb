{
 "cells": [
  {
   "cell_type": "code",
   "execution_count": 21,
   "id": "initial_id",
   "metadata": {
    "ExecuteTime": {
     "end_time": "2024-04-02T09:44:46.076128Z",
     "start_time": "2024-04-02T09:44:45.962089Z"
    },
    "pycharm": {
     "name": "#%%\n"
    }
   },
   "outputs": [],
   "source": [
    "import numpy as np\n",
    "import tqdm"
   ]
  },
  {
   "cell_type": "markdown",
   "id": "9d759fe8449593b5",
   "metadata": {
    "pycharm": {
     "name": "#%% md\n"
    }
   },
   "source": [
    "### Create Synthetic Dataset on Predefined HMM"
   ]
  },
  {
   "cell_type": "code",
   "execution_count": 22,
   "id": "d42c121b90cd961e",
   "metadata": {
    "ExecuteTime": {
     "end_time": "2024-04-02T09:44:47.474235Z",
     "start_time": "2024-04-02T09:44:47.461739Z"
    },
    "pycharm": {
     "name": "#%%\n"
    }
   },
   "outputs": [],
   "source": [
    "np.set_printoptions(suppress=True, precision=4)\n",
    "np.set_printoptions(linewidth=100, threshold=np.inf)\n",
    "np.set_printoptions(formatter={'int': '{:5d}'.format})"
   ]
  },
  {
   "cell_type": "code",
   "execution_count": 23,
   "id": "c08a922824f24efa",
   "metadata": {
    "ExecuteTime": {
     "end_time": "2024-04-02T09:44:49.590476Z",
     "start_time": "2024-04-02T09:44:49.576234Z"
    },
    "pycharm": {
     "name": "#%%\n"
    }
   },
   "outputs": [],
   "source": [
    "num_states = 10  # number of different hidden states\n",
    "num_observations = 500  # number of distinct observations\n",
    "num_sequences = 500  # number of sequence\n",
    "max_length = 20"
   ]
  },
  {
   "cell_type": "code",
   "execution_count": 24,
   "id": "d00feed61a6f6993",
   "metadata": {
    "ExecuteTime": {
     "end_time": "2024-04-02T09:44:50.190890Z",
     "start_time": "2024-04-02T09:44:50.175459Z"
    },
    "pycharm": {
     "name": "#%%\n"
    }
   },
   "outputs": [],
   "source": [
    "# matrix with size (num_states, num_states)\n",
    "transition_probs = np.random.dirichlet(np.ones(num_states) * 1, size=num_states)\n",
    "# matrix with size (num_states, num_observations)\n",
    "emission_probs = np.random.dirichlet(np.ones(num_observations) * 2, size=num_states)\n",
    "# initial probability, equal\n",
    "initial_state_dist = np.ones(num_states) / num_states"
   ]
  },
  {
   "cell_type": "code",
   "execution_count": 25,
   "id": "5787eb87b6c9d3b8",
   "metadata": {
    "ExecuteTime": {
     "end_time": "2024-04-02T09:44:58.094472Z",
     "start_time": "2024-04-02T09:44:58.072633Z"
    },
    "pycharm": {
     "name": "#%%\n"
    }
   },
   "outputs": [
    {
     "data": {
      "text/plain": "(10, 500)"
     },
     "execution_count": 25,
     "metadata": {},
     "output_type": "execute_result"
    }
   ],
   "source": [
    "emission_probs.shape"
   ]
  },
  {
   "cell_type": "code",
   "execution_count": 26,
   "id": "85b308da5c51be6",
   "metadata": {
    "ExecuteTime": {
     "end_time": "2024-02-01T11:11:30.391634Z",
     "start_time": "2024-02-01T11:11:30.381353Z"
    },
    "pycharm": {
     "name": "#%%\n"
    }
   },
   "outputs": [],
   "source": [
    "def simulate_hmm(num_seq, min_length, max_length, pi, A, B):\n",
    "    \"\"\"\n",
    "    Simulate the HMM and generate strings (observation sequences)\n",
    "    :param num_seq: the number of HMM sequences\n",
    "    :param pi: initial probability distribution\n",
    "    :param A: transition matrix\n",
    "    :param B: emission matrix\n",
    "    :return: sequence of hidden states and observations\n",
    "    \"\"\"\n",
    "    sequences = []\n",
    "    hidden_states = []\n",
    "    for _ in range(num_seq):\n",
    "        sequence_len = np.random.randint(min_length, max_length + 1)\n",
    "        current_state = np.random.choice(num_states, p=pi)\n",
    "        observation_seq = []\n",
    "        state_seq = []\n",
    "        for _ in range(sequence_len):\n",
    "            state_seq.append(current_state)\n",
    "            observation = np.random.choice(num_observations, p=B[current_state])\n",
    "            observation_seq.append(observation)\n",
    "            current_state = np.random.choice(num_states, p=A[current_state])\n",
    "        sequences.append(observation_seq)\n",
    "        hidden_states.append(state_seq)\n",
    "\n",
    "    return sequences, hidden_states"
   ]
  },
  {
   "cell_type": "code",
   "execution_count": 27,
   "id": "6c16f85519b2011c",
   "metadata": {
    "ExecuteTime": {
     "end_time": "2024-01-25T13:20:29.101056Z",
     "start_time": "2024-01-25T13:20:13.427152Z"
    },
    "pycharm": {
     "name": "#%%\n"
    }
   },
   "outputs": [],
   "source": [
    "syn_observations, syn_hidden_states = simulate_hmm(num_seq=num_sequences, min_length=10, max_length=max_length,\n",
    "                                                   pi=initial_state_dist, A=transition_probs, B=emission_probs)"
   ]
  },
  {
   "cell_type": "code",
   "execution_count": 28,
   "id": "4c1df1520b1d43fe",
   "metadata": {
    "ExecuteTime": {
     "end_time": "2024-01-25T13:20:31.199622Z",
     "start_time": "2024-01-25T13:20:31.186012Z"
    },
    "pycharm": {
     "name": "#%%\n"
    }
   },
   "outputs": [],
   "source": [
    "def add_noise_to_states(hidden_states, number_states, flip_prob=0.5):\n",
    "    \"\"\"\n",
    "    Add noise to hidden states.\n",
    "    :param hidden_states: input sequence of hidden states\n",
    "    :param number_states: the number of all distinct hidden states.\n",
    "    :param flip_prob: the probability of changing one hidden state to another one.\n",
    "    :return:\n",
    "    \"\"\"\n",
    "    noisy_hidden_states = []\n",
    "    for sequence in hidden_states:\n",
    "        noisy_sequence = []\n",
    "        for state in sequence:\n",
    "            if np.random.rand() < flip_prob:\n",
    "                # Flip the state to a different random state\n",
    "                possible_states = list(range(number_states))\n",
    "                possible_states.remove(state)  # Remove the current state from possibilities\n",
    "                new_state = np.random.choice(possible_states)  # and choose another one\n",
    "                noisy_sequence.append(new_state)\n",
    "            else:\n",
    "                noisy_sequence.append(state)\n",
    "        noisy_hidden_states.append(noisy_sequence)\n",
    "    return noisy_hidden_states"
   ]
  },
  {
   "cell_type": "code",
   "execution_count": 29,
   "id": "3343e831aac7349",
   "metadata": {
    "ExecuteTime": {
     "end_time": "2024-01-25T13:20:34.519393Z",
     "start_time": "2024-01-25T13:20:32.320075Z"
    },
    "pycharm": {
     "name": "#%%\n"
    }
   },
   "outputs": [],
   "source": [
    "noisy_level = 0.5\n",
    "noisy_hidden_states = add_noise_to_states(syn_hidden_states, num_states, flip_prob=noisy_level)"
   ]
  },
  {
   "cell_type": "markdown",
   "source": [
    "### Refine sequences of hidden states"
   ],
   "metadata": {
    "collapsed": false,
    "pycharm": {
     "name": "#%% md\n"
    }
   }
  },
  {
   "cell_type": "code",
   "execution_count": 30,
   "id": "e1088b389caa259d",
   "metadata": {
    "ExecuteTime": {
     "end_time": "2024-01-25T13:10:43.366192Z",
     "start_time": "2024-01-25T13:10:43.198531Z"
    },
    "pycharm": {
     "name": "#%%\n"
    }
   },
   "outputs": [],
   "source": [
    "def refine_seq(syn_hidden_states_, noisy_hidden_states_, if_print=False):\n",
    "    # insert state 0 at the beginning of each hidden state sequence\n",
    "    for i in range(len(syn_hidden_states_)):\n",
    "        for j in range(len(syn_hidden_states_[i])):\n",
    "            syn_hidden_states_[i][j] += 1\n",
    "            noisy_hidden_states_[i][j] += 1\n",
    "\n",
    "    return syn_hidden_states_, noisy_hidden_states_"
   ]
  },
  {
   "cell_type": "code",
   "execution_count": 31,
   "outputs": [],
   "source": [
    "from copy import deepcopy\n",
    "\n",
    "syn_hidden_states_, noisy_hidden_states_ = refine_seq(deepcopy(syn_hidden_states), deepcopy(noisy_hidden_states))"
   ],
   "metadata": {
    "collapsed": false,
    "pycharm": {
     "name": "#%%\n"
    }
   }
  },
  {
   "cell_type": "code",
   "execution_count": 32,
   "outputs": [],
   "source": [
    "file_path = f\"../data/hmm_syn_dataset(norefine_state-{num_states}_obs-{num_observations}_size-{num_sequences}_maxL-{max_length}).npz\"\n",
    "seq_arr = np.array(syn_observations, dtype=object)\n",
    "hid_arr = np.array(syn_hidden_states_, dtype=object)\n",
    "noisy_hid_arr = np.array(noisy_hidden_states_, dtype=object)\n",
    "trans_arr = transition_probs\n",
    "emis_arr = emission_probs"
   ],
   "metadata": {
    "collapsed": false,
    "pycharm": {
     "name": "#%%\n"
    }
   }
  },
  {
   "cell_type": "code",
   "execution_count": 33,
   "outputs": [],
   "source": [
    "np.savez(file_path, observation=seq_arr, real_hidden=hid_arr, noisy_hidden=noisy_hid_arr,\n",
    "         real_trans=trans_arr, emis=emis_arr, noisy_level=noisy_level)"
   ],
   "metadata": {
    "collapsed": false,
    "pycharm": {
     "name": "#%%\n"
    }
   }
  },
  {
   "cell_type": "code",
   "execution_count": 33,
   "outputs": [],
   "source": [],
   "metadata": {
    "collapsed": false,
    "pycharm": {
     "name": "#%%\n"
    }
   }
  }
 ],
 "metadata": {
  "kernelspec": {
   "name": "plot",
   "language": "python",
   "display_name": "plot"
  },
  "language_info": {
   "codemirror_mode": {
    "name": "ipython",
    "version": 3
   },
   "file_extension": ".py",
   "mimetype": "text/x-python",
   "name": "python",
   "nbconvert_exporter": "python",
   "pygments_lexer": "ipython3",
   "version": "3.10.7"
  }
 },
 "nbformat": 4,
 "nbformat_minor": 5
}